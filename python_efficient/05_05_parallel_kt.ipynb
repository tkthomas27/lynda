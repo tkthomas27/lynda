{
 "cells": [
  {
   "cell_type": "markdown",
   "metadata": {},
   "source": [
    "### Python module/package imports for this chapter"
   ]
  },
  {
   "cell_type": "code",
   "execution_count": 1,
   "metadata": {
    "collapsed": true
   },
   "outputs": [],
   "source": [
    "import sys, math, collections, itertools, multiprocessing, gzip"
   ]
  },
  {
   "cell_type": "code",
   "execution_count": 2,
   "metadata": {
    "collapsed": true
   },
   "outputs": [],
   "source": [
    "import numpy as np\n",
    "\n",
    "import matplotlib\n",
    "import matplotlib.pyplot as pp\n",
    "\n",
    "%matplotlib inline"
   ]
  },
  {
   "cell_type": "code",
   "execution_count": 3,
   "metadata": {
    "collapsed": true
   },
   "outputs": [],
   "source": [
    "%load_ext line_profiler\n",
    "%load_ext memory_profiler"
   ]
  },
  {
   "cell_type": "markdown",
   "metadata": {},
   "source": [
    "## Computing Mandelbrot in parallel "
   ]
  },
  {
   "cell_type": "code",
   "execution_count": 4,
   "metadata": {
    "collapsed": true
   },
   "outputs": [],
   "source": [
    "def compute_mandel_numpy(c,maxit=256):\n",
    "    escaped = np.full_like(c,np.inf,'d')\n",
    "    z = np.zeros_like(c,'c16')\n",
    "    \n",
    "    for it in range(1,maxit):\n",
    "        z = np.where(escaped == np.inf,z**2 + c,0)        \n",
    "        escaped[np.abs(z) > 2.0] = it\n",
    "\n",
    "    return escaped\n",
    "        \n",
    "def run_mandel_numpy(extent=[-2.0,1.0,-1.25,1.25],res=256,maxit=256):\n",
    "    xs = np.linspace(extent[0],extent[1],res)\n",
    "    ys = np.linspace(extent[2],extent[3],res)\n",
    "    \n",
    "    c = xs[:,np.newaxis] + 1j*ys[np.newaxis,:]\n",
    "\n",
    "    escaped = compute_mandel_numpy(c,maxit)\n",
    "    \n",
    "    return escaped / maxit"
   ]
  },
  {
   "cell_type": "code",
   "execution_count": 5,
   "metadata": {
    "collapsed": false
   },
   "outputs": [],
   "source": [
    "def plot_mandel(extent=[-2.0,1.0,-1.25,1.25],res=256,maxit=256,run_mandel=run_mandel_numpy):\n",
    "    pp.figure(figsize=(6,6))\n",
    "\n",
    "    cmap = matplotlib.cm.coolwarm\n",
    "    cmap.set_bad('k')\n",
    "\n",
    "    pp.imshow(run_mandel(extent,res,maxit).T,extent=extent,\n",
    "              cmap=cmap,norm=matplotlib.colors.PowerNorm(0.6),\n",
    "              interpolation='none',origin='lower')"
   ]
  },
  {
   "cell_type": "code",
   "execution_count": null,
   "metadata": {
    "collapsed": true
   },
   "outputs": [],
   "source": []
  }
 ],
 "metadata": {
  "anaconda-cloud": {},
  "kernelspec": {
   "display_name": "Python [default]",
   "language": "python",
   "name": "python3"
  },
  "language_info": {
   "codemirror_mode": {
    "name": "ipython",
    "version": 3
   },
   "file_extension": ".py",
   "mimetype": "text/x-python",
   "name": "python",
   "nbconvert_exporter": "python",
   "pygments_lexer": "ipython3",
   "version": "3.5.2"
  }
 },
 "nbformat": 4,
 "nbformat_minor": 1
}
