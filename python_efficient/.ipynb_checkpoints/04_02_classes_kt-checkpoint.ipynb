{
 "cells": [
  {
   "cell_type": "markdown",
   "metadata": {},
   "source": [
    "### Python module/package imports for this chapter"
   ]
  },
  {
   "cell_type": "code",
   "execution_count": 1,
   "metadata": {
    "ExecuteTime": {
     "end_time": "2017-02-21T21:20:52.558638",
     "start_time": "2017-02-21T21:20:51.976765"
    },
    "collapsed": true
   },
   "outputs": [],
   "source": [
    "import sys, os, math, random, functools\n",
    "\n",
    "import numpy as np\n",
    "\n",
    "import matplotlib\n",
    "import matplotlib.pyplot as pp\n",
    "import matplotlib.animation as anim\n",
    "\n",
    "%matplotlib inline\n",
    "\n",
    "from IPython.display import display, HTML"
   ]
  },
  {
   "cell_type": "markdown",
   "metadata": {
    "collapsed": true
   },
   "source": [
    "## Making Python classes"
   ]
  },
  {
   "cell_type": "code",
   "execution_count": 23,
   "metadata": {
    "ExecuteTime": {
     "end_time": "2017-02-21T21:44:57.277835",
     "start_time": "2017-02-21T21:44:57.243069"
    },
    "collapsed": false
   },
   "outputs": [],
   "source": [
    "class Turtle(object):\n",
    "    deg = math.pi / 180.0\n",
    "    \n",
    "    def __init__(self,terrarium):\n",
    "        self.pos = (0,0)\n",
    "        self.angle = 0\n",
    "        self.pen = True\n",
    "        \n",
    "        self.axes = terrarium.axes\n",
    "    \n",
    "    def forward(self,distance):\n",
    "        posnew = (self.pos[0] + distance * math.cos(self.deg * self.angle),\n",
    "                  self.pos[1] + distance * math.sin(self.deg * self.angle))\n",
    "        \n",
    "        if self.pen:\n",
    "            line = pp.Line2D((self.pos[0],posnew[0]),(self.pos[1],posnew[1]))\n",
    "            self.axes.add_line(line)\n",
    "        \n",
    "        self.pos = posnew\n",
    "    \n",
    "    def left(self,angle):\n",
    "        self.angle = (self.angle + angle) % 360\n",
    "        \n",
    "    def right(self,angle):\n",
    "        self.angle = (self.angle - angle) % 360\n",
    "    \n",
    "    def penup(self):\n",
    "        self.pen = False\n",
    "    \n",
    "    def pendown(self):\n",
    "        self.pen = True\n",
    "    \n",
    "class Terrarium(object):\n",
    "    def __init__(self):\n",
    "        self.fig = pp.figure(figsize=(3,3))\n",
    "        self.axes = pp.axes()\n",
    "\n",
    "        self.axes.set_yticks([])\n",
    "        self.axes.set_xticks([])\n",
    "\n",
    "        for spine in ['bottom','top','left','right']:\n",
    "            self.axes.spines[spine].set_color('0.9')\n",
    "\n",
    "    def rescale(self):\n",
    "        self.axes.axis('scaled')\n",
    "        \n",
    "        xmin, xmax, ymin, ymax = self.axes.axis()\n",
    "        dx = (xmax - xmin) / 50\n",
    "        self.axes.axis([xmin-dx,xmax+dx,ymin-dx,ymax+dx])\n",
    "        "
   ]
  },
  {
   "cell_type": "code",
   "execution_count": null,
   "metadata": {
    "ExecuteTime": {
     "end_time": "2017-02-21T21:42:25.728824",
     "start_time": "2017-02-21T21:42:25.663271"
    },
    "collapsed": false
   },
   "outputs": [],
   "source": []
  },
  {
   "cell_type": "code",
   "execution_count": 28,
   "metadata": {
    "ExecuteTime": {
     "end_time": "2017-02-21T21:45:37.608256",
     "start_time": "2017-02-21T21:45:37.547316"
    },
    "collapsed": false
   },
   "outputs": [
    {
     "data": {
      "image/png": "[encoded data removed]",
      "text/plain": [
       "<matplotlib.figure.Figure at 0x108b0d4e0>"
      ]
     },
     "metadata": {},
     "output_type": "display_data"
    }
   ],
   "source": []
  },
  {
   "cell_type": "code",
   "execution_count": 30,
   "metadata": {
    "ExecuteTime": {
     "end_time": "2017-02-21T21:46:00.759089",
     "start_time": "2017-02-21T21:46:00.660316"
    },
    "collapsed": false
   },
   "outputs": [
    {
     "data": {
      "image/png": "[encoded data removed]",
      "text/plain": [
       "<matplotlib.figure.Figure at 0x108897470>"
      ]
     },
     "metadata": {},
     "output_type": "display_data"
    }
   ],
   "source": [
    "t = Terrarium()\n",
    "\n",
    "t1 = Turtle(t)\n",
    "\n",
    "t1.forward(100)\n",
    "t1.left(90)\n",
    "t1.forward(150)\n",
    "t1.right(45)\n",
    "\n",
    "t.rescale()"
   ]
  },
  {
   "cell_type": "code",
   "execution_count": null,
   "metadata": {
    "collapsed": true
   },
   "outputs": [],
   "source": []
  }
 ],
 "metadata": {
  "anaconda-cloud": {},
  "kernelspec": {
   "display_name": "Python 3",
   "language": "python",
   "name": "python3"
  },
  "language_info": {
   "codemirror_mode": {
    "name": "ipython",
    "version": 3
   },
   "file_extension": ".py",
   "mimetype": "text/x-python",
   "name": "python",
   "nbconvert_exporter": "python",
   "pygments_lexer": "ipython3",
   "version": "3.5.2"
  },
  "latex_envs": {
   "LaTeX_envs_menu_present": true,
   "bibliofile": "biblio.bib",
   "cite_by": "apalike",
   "current_citInitial": 1,
   "eqLabelWithNumbers": true,
   "eqNumInitial": 1,
   "labels_anchors": false,
   "latex_user_defs": false,
   "report_style_numbering": false,
   "user_envs_cfg": false
  },
  "toc": {
   "colors": {
    "hover_highlight": "#DAA520",
    "running_highlight": "#FF0000",
    "selected_highlight": "#FFD700"
   },
   "moveMenuLeft": true,
   "nav_menu": {
    "height": "63px",
    "width": "252px"
   },
   "navigate_menu": true,
   "number_sections": true,
   "sideBar": true,
   "threshold": 4,
   "toc_cell": false,
   "toc_section_display": "block",
   "toc_window_display": false
  }
 },
 "nbformat": 4,
 "nbformat_minor": 1
}
