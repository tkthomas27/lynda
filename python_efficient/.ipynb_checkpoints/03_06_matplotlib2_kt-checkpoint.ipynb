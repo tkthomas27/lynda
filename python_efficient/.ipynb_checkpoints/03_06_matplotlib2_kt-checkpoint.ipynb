{
 "cells": [
  {
   "cell_type": "markdown",
   "metadata": {},
   "source": [
    "### Python module/package imports for this chapter"
   ]
  },
  {
   "cell_type": "code",
   "execution_count": 1,
   "metadata": {
    "ExecuteTime": {
     "end_time": "2017-02-20T21:11:02.397252",
     "start_time": "2017-02-20T21:11:02.394366"
    },
    "collapsed": true
   },
   "outputs": [],
   "source": [
    "import os, sys, collections, re, json, io, base64"
   ]
  },
  {
   "cell_type": "code",
   "execution_count": 2,
   "metadata": {
    "ExecuteTime": {
     "end_time": "2017-02-20T21:11:03.112817",
     "start_time": "2017-02-20T21:11:02.601190"
    },
    "collapsed": true
   },
   "outputs": [],
   "source": [
    "import numpy as np\n",
    "\n",
    "import matplotlib\n",
    "import matplotlib.pyplot as pp\n",
    "import matplotlib.animation as anim\n",
    "from mpl_toolkits.basemap import Basemap\n",
    "\n",
    "%matplotlib inline"
   ]
  },
  {
   "cell_type": "code",
   "execution_count": 3,
   "metadata": {
    "ExecuteTime": {
     "end_time": "2017-02-20T21:11:03.313073",
     "start_time": "2017-02-20T21:11:03.114283"
    },
    "collapsed": true
   },
   "outputs": [],
   "source": [
    "import requests\n",
    "import bs4      # BeautifulSoup 4"
   ]
  },
  {
   "cell_type": "code",
   "execution_count": 4,
   "metadata": {
    "ExecuteTime": {
     "end_time": "2017-02-20T21:11:03.320932",
     "start_time": "2017-02-20T21:11:03.314774"
    },
    "collapsed": true
   },
   "outputs": [],
   "source": [
    "import IPython.display\n",
    "import PIL, PIL.Image, PIL.ImageOps, PIL.ImageEnhance  # Python Imaging Library - now \"pillow\""
   ]
  },
  {
   "cell_type": "markdown",
   "metadata": {},
   "source": [
    "## Making a Martian roll-through with `matplotlib`"
   ]
  },
  {
   "cell_type": "code",
   "execution_count": 5,
   "metadata": {
    "ExecuteTime": {
     "end_time": "2017-02-20T21:11:51.764623",
     "start_time": "2017-02-20T21:11:51.710094"
    },
    "collapsed": false
   },
   "outputs": [
    {
     "data": {
      "text/plain": [
       "['<msl>\\n',\n",
       " '  <location>\\n',\n",
       " '    <site>00000</site>\\n',\n",
       " '    <itemName>0000000000</itemName>\\n',\n",
       " '    <lon>137.4416334989196</lon>\\n',\n",
       " '    <rot>0.014572, -0.034982, 0.831579, 0.554112</rot>\\n',\n",
       " '    <endSol>00000</endSol>\\n',\n",
       " '    <dateAdded>2016-11-21T15:55:00Z</dateAdded>\\n',\n",
       " '    <startSol>00000</startSol>\\n',\n",
       " '    <arrivalTime>2012-08-05T13:49:59Z</arrivalTime>\\n',\n",
       " '    <mapPixelH>82253.03164549096</mapPixelH>\\n',\n",
       " '    <contributor>Team MSLICE</contributor>\\n',\n",
       " '    <drive>00000</drive>\\n',\n",
       " '    <mapPixelV>123500.99039381815</mapPixelV>\\n',\n",
       " '    <z>0.0</z>\\n',\n",
       " '    <y>0.0</y>\\n',\n",
       " '    <lat>-4.5894669521344875</lat>\\n',\n",
       " '    <x>0.0</x>\\n',\n",
       " '  </location>\\n']"
      ]
     },
     "execution_count": 5,
     "metadata": {},
     "output_type": "execute_result"
    }
   ],
   "source": [
    "open('resources/locations.xml','r').readlines()[:19]"
   ]
  },
  {
   "cell_type": "code",
   "execution_count": 6,
   "metadata": {
    "ExecuteTime": {
     "end_time": "2017-02-20T21:12:45.465249",
     "start_time": "2017-02-20T21:12:37.635843"
    },
    "collapsed": true
   },
   "outputs": [],
   "source": [
    "xml = bs4.BeautifulSoup(open('resources/locations.xml','r'),'lxml-xml')"
   ]
  },
  {
   "cell_type": "code",
   "execution_count": null,
   "metadata": {
    "collapsed": true
   },
   "outputs": [],
   "source": [
    "coords = collections.OrderedDict"
   ]
  }
 ],
 "metadata": {
  "kernelspec": {
   "display_name": "Python 3",
   "language": "python",
   "name": "python3"
  },
  "language_info": {
   "codemirror_mode": {
    "name": "ipython",
    "version": 3
   },
   "file_extension": ".py",
   "mimetype": "text/x-python",
   "name": "python",
   "nbconvert_exporter": "python",
   "pygments_lexer": "ipython3",
   "version": "3.5.2"
  },
  "latex_envs": {
   "LaTeX_envs_menu_present": true,
   "bibliofile": "biblio.bib",
   "cite_by": "apalike",
   "current_citInitial": 1,
   "eqLabelWithNumbers": true,
   "eqNumInitial": 1,
   "labels_anchors": false,
   "latex_user_defs": false,
   "report_style_numbering": false,
   "user_envs_cfg": false
  },
  "toc": {
   "colors": {
    "hover_highlight": "#DAA520",
    "running_highlight": "#FF0000",
    "selected_highlight": "#FFD700"
   },
   "moveMenuLeft": true,
   "nav_menu": {
    "height": "81px",
    "width": "252px"
   },
   "navigate_menu": true,
   "number_sections": true,
   "sideBar": true,
   "threshold": 4,
   "toc_cell": false,
   "toc_section_display": "block",
   "toc_window_display": false
  }
 },
 "nbformat": 4,
 "nbformat_minor": 1
}
