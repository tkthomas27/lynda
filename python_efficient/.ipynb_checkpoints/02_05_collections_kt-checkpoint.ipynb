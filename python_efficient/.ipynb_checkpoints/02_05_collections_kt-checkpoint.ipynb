{
 "cells": [
  {
   "cell_type": "markdown",
   "metadata": {
    "collapsed": true
   },
   "source": [
    "### Python module/package imports for this chapter"
   ]
  },
  {
   "cell_type": "code",
   "execution_count": 1,
   "metadata": {
    "ExecuteTime": {
     "end_time": "2017-02-20T11:32:20.145900",
     "start_time": "2017-02-20T11:32:20.142081"
    },
    "collapsed": true
   },
   "outputs": [],
   "source": [
    "import math, json, collections, itertools"
   ]
  },
  {
   "cell_type": "code",
   "execution_count": 2,
   "metadata": {
    "ExecuteTime": {
     "end_time": "2017-02-20T11:32:21.128403",
     "start_time": "2017-02-20T11:32:20.739735"
    },
    "collapsed": true
   },
   "outputs": [],
   "source": [
    "import numpy as np\n",
    "import matplotlib.pyplot as pp\n",
    "%matplotlib inline"
   ]
  },
  {
   "cell_type": "code",
   "execution_count": 3,
   "metadata": {
    "ExecuteTime": {
     "end_time": "2017-02-20T11:32:21.685212",
     "start_time": "2017-02-20T11:32:21.404225"
    },
    "collapsed": true
   },
   "outputs": [],
   "source": [
    "from mpl_toolkits.basemap import Basemap\n",
    "import geopy"
   ]
  },
  {
   "cell_type": "markdown",
   "metadata": {},
   "source": [
    "## Beyond lists, dicts, and sets: more powerful collections"
   ]
  },
  {
   "cell_type": "code",
   "execution_count": 5,
   "metadata": {
    "ExecuteTime": {
     "end_time": "2017-02-20T11:32:59.167474",
     "start_time": "2017-02-20T11:32:59.162130"
    },
    "collapsed": false
   },
   "outputs": [
    {
     "data": {
      "text/plain": [
       "['1896\\tThomas Burke\\tUSA\\t100m men\\n',\n",
       " '1896\\tThomas Curtis\\tUSA\\t110m hurdles men\\n',\n",
       " '1896\\tEdwin Flack\\tAUS\\t1500m men\\n',\n",
       " '1896\\tThomas Burke\\tUSA\\t400m men\\n',\n",
       " '1896\\tEdwin Flack\\tAUS\\t800m men\\n',\n",
       " '1896\\tRobert Garrett\\tUSA\\tdiscus throw men\\n',\n",
       " '1896\\tEllery Clark\\tUSA\\thigh jump men\\n',\n",
       " '1896\\tEllery Clark\\tUSA\\tlong jump men\\n',\n",
       " '1896\\tSpyridon Louis\\tGRE\\tmarathon men\\n',\n",
       " '1896\\tWilliam Welles Hoyt\\tUSA\\tpole vault men\\n']"
      ]
     },
     "execution_count": 5,
     "metadata": {},
     "output_type": "execute_result"
    }
   ],
   "source": [
    "open('resources/goldmedals.txt','r').readlines()[:10]"
   ]
  },
  {
   "cell_type": "code",
   "execution_count": 6,
   "metadata": {
    "ExecuteTime": {
     "end_time": "2017-02-20T11:34:30.029268",
     "start_time": "2017-02-20T11:34:30.026240"
    },
    "collapsed": true
   },
   "outputs": [],
   "source": [
    "medal = collections.namedtuple('medal',['year','athlete','team','event'])"
   ]
  },
  {
   "cell_type": "code",
   "execution_count": 7,
   "metadata": {
    "ExecuteTime": {
     "end_time": "2017-02-20T11:34:56.302560",
     "start_time": "2017-02-20T11:34:56.299564"
    },
    "collapsed": true
   },
   "outputs": [],
   "source": [
    "m = medal('1896','Thomas Burke','USA','100m men')"
   ]
  },
  {
   "cell_type": "code",
   "execution_count": 8,
   "metadata": {
    "ExecuteTime": {
     "end_time": "2017-02-20T11:35:04.620407",
     "start_time": "2017-02-20T11:35:04.616753"
    },
    "collapsed": false
   },
   "outputs": [
    {
     "data": {
      "text/plain": [
       "('1896', 'Thomas Burke')"
      ]
     },
     "execution_count": 8,
     "metadata": {},
     "output_type": "execute_result"
    }
   ],
   "source": [
    "m.year, m.athlete"
   ]
  },
  {
   "cell_type": "code",
   "execution_count": 13,
   "metadata": {
    "ExecuteTime": {
     "end_time": "2017-02-20T11:37:07.336188",
     "start_time": "2017-02-20T11:37:07.330368"
    },
    "collapsed": false
   },
   "outputs": [],
   "source": [
    "medals = [medal(*line.strip().split('\\t')) for line in open('resources/goldmedals.txt','r')]"
   ]
  },
  {
   "cell_type": "code",
   "execution_count": 14,
   "metadata": {
    "ExecuteTime": {
     "end_time": "2017-02-20T11:37:09.595760",
     "start_time": "2017-02-20T11:37:09.591847"
    },
    "collapsed": false
   },
   "outputs": [
    {
     "data": {
      "text/plain": [
       "[medal(year='1896', athlete='Thomas Burke', team='USA', event='100m men'),\n",
       " medal(year='1896', athlete='Thomas Curtis', team='USA', event='110m hurdles men'),\n",
       " medal(year='1896', athlete='Edwin Flack', team='AUS', event='1500m men'),\n",
       " medal(year='1896', athlete='Thomas Burke', team='USA', event='400m men'),\n",
       " medal(year='1896', athlete='Edwin Flack', team='AUS', event='800m men')]"
      ]
     },
     "execution_count": 14,
     "metadata": {},
     "output_type": "execute_result"
    }
   ],
   "source": [
    "medals[:5]"
   ]
  },
  {
   "cell_type": "code",
   "execution_count": 15,
   "metadata": {
    "ExecuteTime": {
     "end_time": "2017-02-20T11:37:41.780424",
     "start_time": "2017-02-20T11:37:41.776987"
    },
    "collapsed": true
   },
   "outputs": [],
   "source": [
    "teams = collections.Counter(medal.team for medal in medals)"
   ]
  },
  {
   "cell_type": "code",
   "execution_count": 16,
   "metadata": {
    "ExecuteTime": {
     "end_time": "2017-02-20T11:37:47.340937",
     "start_time": "2017-02-20T11:37:47.335819"
    },
    "collapsed": false
   },
   "outputs": [
    {
     "data": {
      "text/plain": [
       "Counter({'ALG': 4,\n",
       "         'ARG': 2,\n",
       "         'AUS': 23,\n",
       "         'AUT': 1,\n",
       "         'BAH': 12,\n",
       "         'BDI': 1,\n",
       "         'BEL': 4,\n",
       "         'BLR': 4,\n",
       "         'BRA': 5,\n",
       "         'BRN': 1,\n",
       "         'BUL': 5,\n",
       "         'CAN': 21,\n",
       "         'CHN': 8,\n",
       "         'CMR': 2,\n",
       "         'COL': 1,\n",
       "         'CRO': 3,\n",
       "         'CUB': 10,\n",
       "         'CZE': 5,\n",
       "         'DOM': 2,\n",
       "         'ECU': 1,\n",
       "         'ESP': 3,\n",
       "         'EST': 2,\n",
       "         'ETH': 22,\n",
       "         'EUA': 7,\n",
       "         'EUN': 12,\n",
       "         'FIN': 60,\n",
       "         'FRA': 14,\n",
       "         'FRG': 15,\n",
       "         'GBR': 71,\n",
       "         'GDR': 50,\n",
       "         'GER': 18,\n",
       "         'GRE': 7,\n",
       "         'GRN': 1,\n",
       "         'HUN': 10,\n",
       "         'IRL': 4,\n",
       "         'ITA': 19,\n",
       "         'JAM': 42,\n",
       "         'JPN': 7,\n",
       "         'KAZ': 2,\n",
       "         'KEN': 33,\n",
       "         'KOR': 1,\n",
       "         'LTU': 3,\n",
       "         'LUX': 1,\n",
       "         'MAR': 6,\n",
       "         'MEX': 3,\n",
       "         'MOZ': 1,\n",
       "         'NED': 9,\n",
       "         'NGR': 1,\n",
       "         'NOR': 7,\n",
       "         'NZL': 10,\n",
       "         'PAN': 1,\n",
       "         'POL': 27,\n",
       "         'POR': 4,\n",
       "         'ROU': 11,\n",
       "         'RSA': 8,\n",
       "         'RUS': 29,\n",
       "         'SLO': 1,\n",
       "         'SUI': 1,\n",
       "         'SVK': 1,\n",
       "         'SWE': 21,\n",
       "         'SYR': 1,\n",
       "         'TCH': 11,\n",
       "         'TJK': 1,\n",
       "         'TRI': 2,\n",
       "         'TUN': 1,\n",
       "         'TUR': 1,\n",
       "         'UGA': 2,\n",
       "         'UKR': 3,\n",
       "         'URS': 79,\n",
       "         'USA': 521,\n",
       "         'ZZX': 5})"
      ]
     },
     "execution_count": 16,
     "metadata": {},
     "output_type": "execute_result"
    }
   ],
   "source": [
    "teams"
   ]
  },
  {
   "cell_type": "code",
   "execution_count": 17,
   "metadata": {
    "ExecuteTime": {
     "end_time": "2017-02-20T11:38:23.532264",
     "start_time": "2017-02-20T11:38:23.528529"
    },
    "collapsed": false
   },
   "outputs": [
    {
     "data": {
      "text/plain": [
       "[('USA', 521), ('URS', 79), ('GBR', 71), ('FIN', 60), ('GDR', 50)]"
      ]
     },
     "execution_count": 17,
     "metadata": {},
     "output_type": "execute_result"
    }
   ],
   "source": [
    "teams.most_common(5)"
   ]
  },
  {
   "cell_type": "code",
   "execution_count": 21,
   "metadata": {
    "ExecuteTime": {
     "end_time": "2017-02-20T11:42:12.108508",
     "start_time": "2017-02-20T11:42:12.104423"
    },
    "collapsed": true
   },
   "outputs": [],
   "source": [
    "def best_by_year(year):\n",
    "    counts = collections.Counter(medal.team for medal in medals if medal.year == str(year))\n",
    "    best = counts.most_common(5)\n",
    "    \n",
    "    return [b[0] for b in best], [b[1] for b in best]"
   ]
  },
  {
   "cell_type": "code",
   "execution_count": 22,
   "metadata": {
    "ExecuteTime": {
     "end_time": "2017-02-20T11:42:12.949235",
     "start_time": "2017-02-20T11:42:12.944798"
    },
    "collapsed": false
   },
   "outputs": [
    {
     "data": {
      "text/plain": [
       "(['USA', 'ZZX', 'GBR', 'HUN', 'FRA'], [16, 5, 3, 1, 1])"
      ]
     },
     "execution_count": 22,
     "metadata": {},
     "output_type": "execute_result"
    }
   ],
   "source": [
    "best_by_year(1900)"
   ]
  },
  {
   "cell_type": "code",
   "execution_count": 23,
   "metadata": {
    "ExecuteTime": {
     "end_time": "2017-02-20T11:43:37.606125",
     "start_time": "2017-02-20T11:43:37.466722"
    },
    "collapsed": false
   },
   "outputs": [
    {
     "data": {
      "text/plain": [
       "([<matplotlib.axis.XTick at 0x109691278>,\n",
       "  <matplotlib.axis.XTick at 0x109691978>,\n",
       "  <matplotlib.axis.XTick at 0x109694160>,\n",
       "  <matplotlib.axis.XTick at 0x10996b390>,\n",
       "  <matplotlib.axis.XTick at 0x10996bd68>],\n",
       " <a list of 5 Text xticklabel objects>)"
      ]
     },
     "execution_count": 23,
     "metadata": {},
     "output_type": "execute_result"
    },
    {
     "data": {
      "image/png": "[encoded data removed]",
      "text/plain": [
       "<matplotlib.figure.Figure at 0x109698f28>"
      ]
     },
     "metadata": {},
     "output_type": "display_data"
    }
   ],
   "source": [
    "countries, tally = best_by_year(1900)\n",
    "\n",
    "pp.figure(figsize=(6,3))\n",
    "\n",
    "bars = pp.bar(np.arange(5), tally, align='center')\n",
    "\n",
    "pp.xticks(np.arange(5),countries)"
   ]
  },
  {
   "cell_type": "code",
   "execution_count": 25,
   "metadata": {
    "ExecuteTime": {
     "end_time": "2017-02-20T11:50:25.798577",
     "start_time": "2017-02-20T11:50:25.794529"
    },
    "collapsed": false
   },
   "outputs": [],
   "source": [
    "winners_by_country = collections.defaultdict(list)\n",
    "\n",
    "for medal in medals:\n",
    "    winners_by_country[medal.team].append(medal.athlete)"
   ]
  },
  {
   "cell_type": "code",
   "execution_count": 26,
   "metadata": {
    "ExecuteTime": {
     "end_time": "2017-02-20T11:50:37.125921",
     "start_time": "2017-02-20T11:50:37.121927"
    },
    "collapsed": false
   },
   "outputs": [
    {
     "data": {
      "text/plain": [
       "['Michel Theato',\n",
       " 'Joseph Guillemot',\n",
       " 'Boughera Mohamed El Ouafi',\n",
       " 'Micheline Ostermeyer',\n",
       " 'Micheline Ostermeyer',\n",
       " 'Alain Mimoun',\n",
       " 'Colette Besson',\n",
       " 'Guy Drut',\n",
       " 'Pierre Quinon',\n",
       " 'Marie-Jose Perec',\n",
       " 'Marie-Jose Perec',\n",
       " 'Marie-Jose Perec',\n",
       " 'Jean Galfione',\n",
       " 'Renaud Lavillenie']"
      ]
     },
     "execution_count": 26,
     "metadata": {},
     "output_type": "execute_result"
    }
   ],
   "source": [
    "winners_by_country['FRA']"
   ]
  },
  {
   "cell_type": "code",
   "execution_count": 27,
   "metadata": {
    "ExecuteTime": {
     "end_time": "2017-02-20T12:20:19.081525",
     "start_time": "2017-02-20T12:20:19.078743"
    },
    "collapsed": true
   },
   "outputs": [],
   "source": [
    "dq = collections.deque(range(10))"
   ]
  },
  {
   "cell_type": "code",
   "execution_count": 30,
   "metadata": {
    "ExecuteTime": {
     "end_time": "2017-02-20T12:21:56.759317",
     "start_time": "2017-02-20T12:21:56.754927"
    },
    "collapsed": false
   },
   "outputs": [
    {
     "name": "stdout",
     "output_type": "stream",
     "text": [
      "deque([11, 12, 13, 14, 10, 11, 12, 13, 14, 10])\n",
      "deque([12, 13, 14, 10, 11, 12, 13, 14, 10, 11])\n",
      "deque([13, 14, 10, 11, 12, 13, 14, 10, 11, 12])\n",
      "deque([14, 10, 11, 12, 13, 14, 10, 11, 12, 13])\n",
      "deque([10, 11, 12, 13, 14, 10, 11, 12, 13, 14])\n"
     ]
    }
   ],
   "source": [
    "for i in range(10,15):\n",
    "    dq.append(i)\n",
    "    dq.popleft()\n",
    "    print(dq)"
   ]
  },
  {
   "cell_type": "code",
   "execution_count": null,
   "metadata": {
    "collapsed": true
   },
   "outputs": [],
   "source": []
  }
 ],
 "metadata": {
  "anaconda-cloud": {},
  "kernelspec": {
   "display_name": "Python 3",
   "language": "python",
   "name": "python3"
  },
  "language_info": {
   "codemirror_mode": {
    "name": "ipython",
    "version": 3
   },
   "file_extension": ".py",
   "mimetype": "text/x-python",
   "name": "python",
   "nbconvert_exporter": "python",
   "pygments_lexer": "ipython3",
   "version": "3.5.2"
  },
  "latex_envs": {
   "LaTeX_envs_menu_present": true,
   "bibliofile": "biblio.bib",
   "cite_by": "apalike",
   "current_citInitial": 1,
   "eqLabelWithNumbers": true,
   "eqNumInitial": 1,
   "labels_anchors": false,
   "latex_user_defs": false,
   "report_style_numbering": false,
   "user_envs_cfg": false
  },
  "toc": {
   "colors": {
    "hover_highlight": "#DAA520",
    "running_highlight": "#FF0000",
    "selected_highlight": "#FFD700"
   },
   "moveMenuLeft": true,
   "nav_menu": {
    "height": "63px",
    "width": "252px"
   },
   "navigate_menu": true,
   "number_sections": true,
   "sideBar": true,
   "threshold": 4,
   "toc_cell": false,
   "toc_section_display": "block",
   "toc_window_display": false
  }
 },
 "nbformat": 4,
 "nbformat_minor": 1
}
