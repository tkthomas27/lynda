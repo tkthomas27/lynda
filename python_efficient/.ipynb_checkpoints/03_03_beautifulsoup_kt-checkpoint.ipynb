{
 "cells": [
  {
   "cell_type": "markdown",
   "metadata": {},
   "source": [
    "<p>This is a paragraph containing <b>bold text</b></p>"
   ]
  },
  {
   "cell_type": "markdown",
   "metadata": {},
   "source": [
    "### Python module/package imports for this chapter"
   ]
  },
  {
   "cell_type": "code",
   "execution_count": 1,
   "metadata": {
    "ExecuteTime": {
     "end_time": "2017-02-20T20:48:21.603538",
     "start_time": "2017-02-20T20:48:21.600758"
    },
    "collapsed": true
   },
   "outputs": [],
   "source": [
    "import os, sys, collections, re, json, io, base64"
   ]
  },
  {
   "cell_type": "code",
   "execution_count": 2,
   "metadata": {
    "ExecuteTime": {
     "end_time": "2017-02-20T20:48:22.901175",
     "start_time": "2017-02-20T20:48:22.514459"
    },
    "collapsed": true
   },
   "outputs": [],
   "source": [
    "import numpy as np\n",
    "\n",
    "import matplotlib\n",
    "import matplotlib.pyplot as pp\n",
    "import matplotlib.animation as anim\n",
    "from mpl_toolkits.basemap import Basemap\n",
    "\n",
    "%matplotlib inline"
   ]
  },
  {
   "cell_type": "code",
   "execution_count": 3,
   "metadata": {
    "ExecuteTime": {
     "end_time": "2017-02-20T20:48:24.006274",
     "start_time": "2017-02-20T20:48:23.877084"
    },
    "collapsed": true
   },
   "outputs": [],
   "source": [
    "import requests\n",
    "import bs4      # BeautifulSoup 4"
   ]
  },
  {
   "cell_type": "code",
   "execution_count": 4,
   "metadata": {
    "ExecuteTime": {
     "end_time": "2017-02-20T20:48:24.700962",
     "start_time": "2017-02-20T20:48:24.694416"
    },
    "collapsed": true
   },
   "outputs": [],
   "source": [
    "import IPython.display\n",
    "import PIL, PIL.Image, PIL.ImageOps, PIL.ImageEnhance  # Python Imaging Library - now \"pillow\""
   ]
  },
  {
   "cell_type": "markdown",
   "metadata": {},
   "source": [
    "### Data needed from previous videos"
   ]
  },
  {
   "cell_type": "code",
   "execution_count": 5,
   "metadata": {
    "ExecuteTime": {
     "end_time": "2017-02-20T20:48:54.144545",
     "start_time": "2017-02-20T20:48:52.126558"
    },
    "collapsed": true
   },
   "outputs": [],
   "source": [
    "images = requests.get('http://mars.nasa.gov/msl/multimedia/raw',\n",
    "                      params = {'s': '1460', 'camera': 'FHAZ'})\n",
    "htmlpage = images.text\n",
    "\n",
    "# if internet is not available or NASA's webserver is unresponsive,\n",
    "# the same webpage can be found in the exercise files, and loaded with\n",
    "# htmlpage = json.load(open('sol1460.json','r'))"
   ]
  },
  {
   "cell_type": "markdown",
   "metadata": {},
   "source": [
    "## Parsing HTML with `BeautifulSoup`"
   ]
  },
  {
   "cell_type": "code",
   "execution_count": 6,
   "metadata": {
    "ExecuteTime": {
     "end_time": "2017-02-20T20:52:22.204904",
     "start_time": "2017-02-20T20:52:22.174437"
    },
    "collapsed": true
   },
   "outputs": [],
   "source": [
    "soup = bs4.BeautifulSoup(htmlpage,'lxml')"
   ]
  },
  {
   "cell_type": "code",
   "execution_count": 7,
   "metadata": {
    "ExecuteTime": {
     "end_time": "2017-02-20T20:52:23.673557",
     "start_time": "2017-02-20T20:52:23.577006"
    },
    "collapsed": false
   },
   "outputs": [
    {
     "data": {
      "text/plain": [
       "<!-- CGI.HTTP_HOST: mars.jpl.nasa.gov --><!DOCTYPE html PUBLIC \"-//W3C//DTD XHTML 1.0 Transitional//EN\" \"http://www.w3.org/TR/xhtml1/DTD/xhtml1-transitional.dtd\">\n",
       "<html>\n",
       "<head>\n",
       "<title>Raw Images - Mars Science Laboratory</title>\n",
       "<meta content=\"Raw Images\" name=\"title\"/>\n",
       "<meta content=\"Raw Images - Mars Science Laboratory\" property=\"og:title\"/>\n",
       "<meta content=\"JPL, NASA\" name=\"creator\"/>\n",
       "<meta content=\"JPL, NASA\" name=\"author\"/>\n",
       "<meta content=\"Curiosity, raw images, multimedia, Mars Science Laboratory, Curiosity, MSL, Rover, Planet Mars\" name=\"keywords\"/>\n",
       "<meta content=\"Mars Science Laboratory rover Curiosity exploring the planet mars - facts, information, videos and pictures\" name=\"description\"/>\n",
       "<meta content=\"Mars Science Laboratory rover Curiosity exploring the planet mars - facts, information, videos and pictures\" property=\"og:description\"/>\n",
       "<meta content=\"http://mars.jpl.nasa.gov/msl/multimedia/raw/\" property=\"og:url\"/>\n",
       "<meta content=\"24YTv3DMgPjuCosK3yyc8RX9chB0AzhIxGajBBxbwMU\" name=\"google-site-verification\"/>\n",
       "<meta content=\"IE=9\" http-equiv=\"X-UA-Compatible\"/>\n",
       "<meta content=\"http://mars.jpl.nasa.gov/layout/msl/images/FollowYourCuriosity.jpg\" property=\"og:image\"/>\n",
       "<script language=\"JavaScript\" src=\"../../js/rollover.js\"></script>\n",
       "<script src=\"/js/jquery/jquery-1.11.1.min.js\"></script>\n",
       "<link href=\"/layout/general/css/general-subset.css\" rel=\"stylesheet\"/>\n",
       "<script src=\"/js/general/layout/selectbrowsercss.js\" type=\"text/javascript\"></script>\n",
       "<script async=\"\" data-pin-hover=\"true\" data-pin-save=\"true\" defer=\"\" src=\"//assets.pinterest.com/js/pinit.js\"></script>\n",
       "<script src=\"/js/general/layout/xmldom.js\" type=\"text/javascript\"></script>\n",
       "<script id=\"_fed_an_ua_tag\" src=\"https://dap.digitalgov.gov/Universal-Federated-Analytics-Min.js?agency=NASA&amp;subagency=JPL-Mars-MSL&amp;pua=UA-9453474-1&amp;dclink=true&amp;sp=searchbox\" type=\"text/javascript\"></script>\n",
       "<script>\n",
       "(function(i,s,o,g,r,a,m){i['GoogleAnalyticsObject']=r;i[r]=i[r]||function(){\n",
       "(i[r].q=i[r].q||[]).push(arguments)},i[r].l=1*new Date();a=s.createElement(o),\n",
       "m=s.getElementsByTagName(o)[0];a.async=1;a.src=g;m.parentNode.insertBefore(a,m)\n",
       "})(window,document,'script','//www.google-analytics.com/analytics.js','ga');\n",
       "ga('create', 'UA-33523145-1', 'auto');\n",
       "ga('send', 'pageview');\n",
       "</script>\n",
       "<link href=\"../../layout/rcmsStyle.css\" rel=\"stylesheet\" type=\"text/css\"/>\n",
       "<!-- Dependency source files -->\n",
       "<script src=\"../../js/yui/build/yahoo-dom-event/yahoo-dom-event.js\" type=\"text/javascript\"></script>\n",
       "<script src=\"../../js/yui/build/container/container_core-min.js\" type=\"text/javascript\"></script>\n",
       "<!-- Menu source file -->\n",
       "<script src=\"../../js/yui/build/menu/menu-min.js\" type=\"text/javascript\"></script>\n",
       "<script src=\"../../js/custom-min.js\" type=\"text/javascript\"></script>\n",
       "<link href=\"../../layout/DynamicListStyle.css\" rel=\"stylesheet\" type=\"text/css\"/>\n",
       "<style type=\"text/css\">\n",
       "@import URL(\"../../layout/DynamicListStyle.css\");\n",
       "</style>\n",
       "<style type=\"text/css\">\n",
       ".gradientLine{\n",
       "border: 0;\n",
       "height: 2px;\n",
       "margin: 50px 0;\n",
       "position: relative;\n",
       "background: url(data:image/svg+xml;base64, PD94bWwgdmVyc2lvbj0iMS4wIiA/Pgo8c3ZnIHhtbG5zPSJo���EiIGhlaWdodD0iMSIgZmlsbD0idXJsKCNncmFkLXVjZ2ctZ2VuZXJhdGVkKSIgLz4KPC9zdmc+);\n",
       "background: -moz-linear-gradient(left, rgba(30,87,153,0) 20%, rgba(30,87,153,0.2) 25%, rgba(30,87,153,0.35) 30%, rgba(30,87,153,0.43) 40%, rgba(41,137,216,0.5) 50%, rgba(30,87,153,0.43) 60%, rgba(30,87,153,0.35) 70%, rgba(30,87,153,0.2) 75%, rgba(30,87,153,0) 80%);\n",
       "background: -webkit-gradient(linear, left top, right top, color-stop(20%, rgba(30,87,153,0)), color-stop(25%, rgba(30,87,153,0.2)), color-stop(30%, rgba(30,87,153,0.35)), color-stop(40%, rgba(30,87,153,0.43)), color-stop(50%, rgba(41,137,216,0.5)), color-stop(60%, rgba(30,87,153,0.43)), color-stop(70%, rgba(30,87,153,0.35)), color-stop(75%, rgba(30,87,153,0.2)), color-stop(80%, rgba(30,87,153,0)));\n",
       "background: -webkit-linear-gradient(left, rgba(30,87,153,0) 20%, rgba(30,87,153,0.2) 25%, rgba(30,87,153,0.35) 30%, rgba(30,87,153,0.43) 40%, rgba(41,137,216,0.5) 50%, rgba(30,87,153,0.43) 60%, rgba(30,87,153,0.35) 70%, rgba(30,87,153,0.2) 75%, rgba(30,87,153,0) 80%);\n",
       "background: -o-linear-gradient(left, rgba(30,87,153,0) 20%, rgba(30,87,153,0.2) 25%, rgba(30,87,153,0.35) 30%, rgba(30,87,153,0.43) 40%, rgba(41,137,216,0.5) 50%, rgba(30,87,153,0.43) 60%, rgba(30,87,153,0.35) 70%, rgba(30,87,153,0.2) 75%, rgba(30,87,153,0) 80%);\n",
       "background: -ms-linear-gradient(left, rgba(30,87,153,0) 20%, rgba(30,87,153,0.2) 25%, rgba(30,87,153,0.35) 30%, rgba(30,87,153,0.43) 40%, rgba(41,137,216,0.5) 50%, rgba(30,87,153,0.43) 60%, rgba(30,87,153,0.35) 70%, rgba(30,87,153,0.2) 75%, rgba(30,87,153,0) 80%);\n",
       "background: linear-gradient(to right, rgba(30,87,153,0) 20%, rgba(30,87,153,0.2) 25%, rgba(30,87,153,0.35) 30%, rgba(30,87,153,0.43) 40%, rgba(41,137,216,0.5) 50%, rgba(30,87,153,0.43) 60%, rgba(30,87,153,0.35) 70%, rgba(30,87,153,0.2) 75%, rgba(30,87,153,0) 80%);\n",
       "filter: progid:DXImageTransform.Microsoft.gradient( startColorstr='#001e5799', endColorstr='#001e5799', GradientType=1 );}\n",
       "a img{ text-decoration:none !important; border:none 0 !important;}\n",
       "/*\n",
       ".homeRoverAdds {\n",
       "margin-top: -356px;\n",
       "margin-left: -175px;\n",
       "}\n",
       "html>body .homeRoverAdds {\n",
       "margin-top: -354px;\n",
       "margin-left: -143px;\n",
       "}\n",
       "*/\n",
       ".homeRoverAdds {\n",
       "/*margin-top: -266px !important;\n",
       "width: 1170px;\n",
       "height: 370px;\n",
       "background: url(../../layout/msl/images/rover_and_ads.png);*/\n",
       "width: 791px;\n",
       "height: 310px;\n",
       "background: url(../../layout/msl/images/hp_favs_twitter_bg.png);\n",
       "background-repeat: no-repeat;\n",
       "padding-top:0px;\n",
       "margin-left:auto; margin-right:-75px; margin-top:40px;\n",
       "clear:both;\n",
       "}\n",
       ".addsHdrBox { /*height:43px;*/ height:33px; padding-top:24px; /*background-color:yellow;*/ }\n",
       ".addsHdrBox .favoritesHdr { margin-left:200px; width:72px; }\n",
       "#twitterFeed {position: relative; /* margin-left:61px; */ width:182px; padding:0px; float:right; margin-right:40px; /*margin-top:-137px;*/}\n",
       "#twitterFeed .addsHdrBox { /*background-color:blue;*/ height:13px; }\n",
       ".addsHdrBox .atMarsCuriosityHdr { margin-left:0px; width:93px; float:left; }\n",
       ".addsHdrBox .twitterIcon { margin-left:0px; width:19px; float:left; }\n",
       ".addsHdrBox .facebookIcon { margin-left:6px; width:19px; float:left; }\n",
       ".homeFlash {\n",
       "margin-top: -710px;\n",
       "}\n",
       ".homeRoverAdds-countdown {\n",
       "color:white; font-size:20px; font-weight:bold; font-family: helvetica, arial, verdana, sans-serif;\n",
       "/*width:180px; height:174px;*/\n",
       "width:135px; height:130px;\n",
       "/*background-image: url('../../layout/msl/images/MSLCountdown_Ad3.jpg');*/\n",
       "background-image: url('../../layout/msl/images/ad_countdownToLand.jpg');\n",
       "background-repeat: no-repeat;\n",
       "padding-top: 52px;\n",
       "}\n",
       ".homeRoverAdds-countdown table {\n",
       "/*margin-left: 10px;*/\n",
       "margin-left: 10px;\n",
       "}\n",
       "html>body .homeRoverAdds-countdown table {\n",
       "margin-left: auto;\n",
       "}\n",
       ".homeRoverAdds-countdownDescription {\n",
       "color:#FFC53A; font-size:10px; font-weight:bold; font-family: helvetica, arial, verdana, sans-serif;\n",
       "}\n",
       ".homeRoverAdds-countdown td{\n",
       "color:white;\n",
       "/*font-size:20px; font-weight:bold; */\n",
       "font-size:14px; font-weight:normal;\n",
       "font-family: helvetica, arial, verdana, sans-serif;\n",
       "text-align:center;\n",
       "}\n",
       ".mslcountdown-home2\t{\n",
       "/*font-family: arial, helvetica, verdana, sans-serif;\n",
       "text-decoration: none;\n",
       "color:#000000!important;;\n",
       "font-weight: bold;\n",
       "font-size: 15px; */\n",
       "color:white;\n",
       "/*font-size:19px !important; */\n",
       "font-size:14px !important;\n",
       "font-weight:normal !important;\n",
       "font-family: helvetica, arial, verdana, sans-serif;\n",
       "width:100%; text-align:center;\n",
       "}\n",
       ".mslcountdown-home3\t{\n",
       "/*font-family: arial, helvetica, verdana, sans-serif;\n",
       "text-decoration: none;\n",
       "color : #012456;\n",
       "font-size: 11px; */\n",
       "color:#FFC53A;\n",
       "/*font-size:10px; */\n",
       "font-size:9px;\n",
       "font-weight:bold; font-family: helvetica, arial, verdana, sans-serif;\n",
       "width:100%; text-align:center;\n",
       "line-height:18px;\n",
       "}\n",
       ".mslcountdown-home2 td, .mslcountdown-home3 td {\n",
       "text-align:center;\n",
       "}\n",
       ".mslcountdown-home-title\t{\n",
       "font-family: arial, helvetica, verdana, sans-serif;\n",
       "text-decoration: none;\n",
       "color : #FEFEFE !important;\n",
       "font-weight: bold !important;\n",
       "font-size: 14px !important;\n",
       "/* background: #d4deeb;*/\n",
       "padding-bottom:5px;\n",
       "}\n",
       ".mslcountdown-home-text\t{\n",
       "font-family: arial, helvetica, verdana, sans-serif;\n",
       "text-decoration: none;\n",
       "color : #000000;\n",
       "font-weight: bold;\n",
       "font-size: 11px;\n",
       "background: #d4deeb;\n",
       "}\n",
       "a.mslcountdown-home2Link\t{\n",
       "font-family: arial, helvetica, verdana, sans-serif;\n",
       "text-decoration: none;\n",
       "color : #000000;\n",
       "font-weight: bold;\n",
       "font-size: 11px;\n",
       "background: #d4deeb;\n",
       "}\n",
       "a.mslcountdown-home-textLink\t{\n",
       "font-family: arial, helvetica, verdana, sans-serif;\n",
       "text-decoration: none;\n",
       "color : #000000;\n",
       "font-weight: bold;\n",
       "font-size: 11px;\n",
       "background: #d4deeb;\n",
       "}\n",
       "</style>\n",
       "<style type=\"text/css\">\n",
       "/*BODY BG - START*/\n",
       "body, html {\n",
       "background-color: #000000;\n",
       "margin: 0px;\n",
       "padding: 0px;\n",
       "background-image: url('../../layout/msl/images/background_bottom.jpg');\n",
       "background-repeat: repeat-y;\n",
       "background-repeat: ;\n",
       "}\n",
       "#contentBox {\n",
       "/*background-image: url('../../layout/msl/images/background_bottom.jpg');\n",
       "background-repeat: repeat-y;*/\n",
       "background-image: url('../../layout/msl/images/background_bottom.jpg');\n",
       "background-repeat: repeat-y;\n",
       "background-position: 50% 0%;\n",
       "/*background-color: #000000;*/\n",
       "height: 100%;\n",
       "margin: 0px;\n",
       "padding: 0px;\n",
       "background-color: #000000;\n",
       "}\n",
       "#content {\n",
       "background-image: url('../../layout/msl/images/background_WithBlue.jpg ');\n",
       "background-repeat: no-repeat;\n",
       "background-position: 50% 0%;\n",
       "/*height: 100%;*/\n",
       "height: 1100px;\n",
       "margin: 0px;\n",
       "padding: 0px;\n",
       "}\n",
       "/*BODY BG - END*/\n",
       "/*BANNER - START*/\n",
       "#top_jplBanner {\n",
       "text-align: center;\n",
       "width: 980;\n",
       "/*height: 57px;\n",
       "margin-top: 17px;*/\n",
       "padding-top: 17px; padding-left: 0px;\n",
       "height: 74px;\n",
       "/*background-image: url('../../layout/msl/images/top_jplBanner.png');\n",
       "background-repeat: no-repeat;\n",
       "background-position: 17px;*/\n",
       "}\n",
       "#top_marsBanner {\n",
       "text-align: center;\n",
       "width: 1130px;\n",
       "height: 169px;\n",
       "background-image: url('../../layout/msl/images/top_marsBanner.png');\n",
       "background-repeat: no-repeat;\n",
       "padding-top: 111px;\n",
       "}\n",
       "#top_marsBanner .MSLhome {\n",
       "margin-top:-90px;\n",
       "}\n",
       "#top_marsBanner #topSiteNavBox {\n",
       "margin-top: -2px;\n",
       "margin-left: -1px "
      ]
     },
     "execution_count": 7,
     "metadata": {},
     "output_type": "execute_result"
    },
    {
     "data": {
      "text/html": [
       "<b>limit_output extension: Maximum message size of 10000 exceeded with 93159 characters</b>"
      ]
     },
     "metadata": {},
     "output_type": "display_data"
    }
   ],
   "source": [
    "soup"
   ]
  },
  {
   "cell_type": "code",
   "execution_count": 8,
   "metadata": {
    "ExecuteTime": {
     "end_time": "2017-02-20T20:52:37.633237",
     "start_time": "2017-02-20T20:52:37.617811"
    },
    "collapsed": false
   },
   "outputs": [
    {
     "name": "stdout",
     "output_type": "stream",
     "text": [
      "<bound method Tag.prettify of <!-- CGI.HTTP_HOST: mars.jpl.nasa.gov --><!DOCTYPE html PUBLIC \"-//W3C//DTD XHTML 1.0 Transitional//EN\" \"http://www.w3.org/TR/xhtml1/DTD/xhtml1-transitional.dtd\">\n",
      "<html>\n",
      "<head>\n",
      "<title>Raw Images - Mars Science Laboratory</title>\n",
      "<meta content=\"Raw Images\" name=\"title\"/>\n",
      "<meta content=\"Raw Images - Mars Science Laboratory\" property=\"og:title\"/>\n",
      "<meta content=\"JPL, NASA\" name=\"creator\"/>\n",
      "<meta content=\"JPL, NASA\" name=\"author\"/>\n",
      "<meta content=\"Curiosity, raw images, multimedia, Mars Science Laboratory, Curiosity, MSL, Rover, Planet Mars\" name=\"keywords\"/>\n",
      "<meta content=\"Mars Science Laboratory rover Curiosity exploring the planet mars - facts, information, videos and pictures\" name=\"description\"/>\n",
      "<meta content=\"Mars Science Laboratory rover Curiosity exploring the planet mars - facts, information, videos and pictures\" property=\"og:description\"/>\n",
      "<meta content=\"http://mars.jpl.nasa.gov/msl/multimedia/raw/\" property=\"og:url\"/>\n",
      "<meta content=\"24YTv3DMgPjuCosK3yyc8RX9chB0AzhIxGajBBxbwMU\" name=\"google-site-verification\"/>\n",
      "<meta content=\"IE=9\" http-equiv=\"X-UA-Compatible\"/>\n",
      "<meta content=\"http://mars.jpl.nasa.gov/layout/msl/images/FollowYourCuriosity.jpg\" property=\"og:image\"/>\n",
      "<script language=\"JavaScript\" src=\"../../js/rollover.js\"></script>\n",
      "<script src=\"/js/jquery/jquery-1.11.1.min.js\"></script>\n",
      "<link href=\"/layout/general/css/general-subset.css\" rel=\"stylesheet\"/>\n",
      "<script src=\"/js/general/layout/selectbrowsercss.js\" type=\"text/javascript\"></script>\n",
      "<script async=\"\" data-pin-hover=\"true\" data-pin-save=\"true\" defer=\"\" src=\"//assets.pinterest.com/js/pinit.js\"></script>\n",
      "<script src=\"/js/general/layout/xmldom.js\" type=\"text/javascript\"></script>\n",
      "<script id=\"_fed_an_ua_tag\" src=\"https://dap.digitalgov.gov/Universal-Federated-Analytics-Min.js?agency=NASA&amp;subagency=JPL-Mars-MSL&amp;pua=UA-9453474-1&amp;dclink=true&amp;sp=searchbox\" type=\"text/javascript\"></script>\n",
      "<script>\n",
      "(function(i,s,o,g,r,a,m){i['GoogleAnalyticsObject']=r;i[r]=i[r]||function(){\n",
      "(i[r].q=i[r].q||[]).push(arguments)},i[r].l=1*new Date();a=s.createElement(o),\n",
      "m=s.getElementsByTagName(o)[0];a.async=1;a.src=g;m.parentNode.insertBefore(a,m)\n",
      "})(window,document,'script','//www.google-analytics.com/analytics.js','ga');\n",
      "ga('create', 'UA-33523145-1', 'auto');\n",
      "ga('send', 'pageview');\n",
      "</script>\n",
      "<link href=\"../../layout/rcmsStyle.css\" rel=\"stylesheet\" type=\"text/css\"/>\n",
      "<!-- Dependency source files -->\n",
      "<script src=\"../../js/yui/build/yahoo-dom-event/yahoo-dom-event.js\" type=\"text/javascript\"></script>\n",
      "<script src=\"../../js/yui/build/container/container_core-min.js\" type=\"text/javascript\"></script>\n",
      "<!-- Menu source file -->\n",
      "<script src=\"../../js/yui/build/menu/menu-min.js\" type=\"text/javascript\"></script>\n",
      "<script src=\"../../js/custom-min.js\" type=\"text/javascript\"></script>\n",
      "<link href=\"../../layout/DynamicListStyle.css\" rel=\"stylesheet\" type=\"text/css\"/>\n",
      "<style type=\"text/css\">\n",
      "@import URL(\"../../layout/DynamicListStyle.css\");\n",
      "</style>\n",
      "<style type=\"text/css\">\n",
      ".gradientLine{\n",
      "border: 0;\n",
      "height: 2px;\n",
      "margin: 50px 0;\n",
      "position: relative;\n",
      "background: url(data:image/svg+xml;base64, PD94bWwgdmVyc2lvbj0iMS4wIiA/Pgo8c3ZnIHhtbG5zPSJo���EiIGhlaWdodD0iMSIgZmlsbD0idXJsKCNncmFkLXVjZ2ctZ2VuZXJhdGVkKSIgLz4KPC9zdmc+);\n",
      "background: -moz-linear-gradient(left, rgba(30,87,153,0) 20%, rgba(30,87,153,0.2) 25%, rgba(30,87,153,0.35) 30%, rgba(30,87,153,0.43) 40%, rgba(41,137,216,0.5) 50%, rgba(30,87,153,0.43) 60%, rgba(30,87,153,0.35) 70%, rgba(30,87,153,0.2) 75%, rgba(30,87,153,0) 80%);\n",
      "background: -webkit-gradient(linear, left top, right top, color-stop(20%, rgba(30,87,153,0)), color-stop(25%, rgba(30,87,153,0.2)), color-stop(30%, rgba(30,87,153,0.35)), color-stop(40%, rgba(30,87,153,0.43)), color-stop(50%, rgba(41,137,216,0.5)), color-stop(60%, rgba(30,87,153,0.43)), color-stop(70%, rgba(30,87,153,0.35)), color-stop(75%, rgba(30,87,153,0.2)), color-stop(80%, rgba(30,87,153,0)));\n",
      "background: -webkit-linear-gradient(left, rgba(30,87,153,0) 20%, rgba(30,87,153,0.2) 25%, rgba(30,87,153,0.35) 30%, rgba(30,87,153,0.43) 40%, rgba(41,137,216,0.5) 50%, rgba(30,87,153,0.43) 60%, rgba(30,87,153,0.35) 70%, rgba(30,87,153,0.2) 75%, rgba(30,87,153,0) 80%);\n",
      "background: -o-linear-gradient(left, rgba(30,87,153,0) 20%, rgba(30,87,153,0.2) 25%, rgba(30,87,153,0.35) 30%, rgba(30,87,153,0.43) 40%, rgba(41,137,216,0.5) 50%, rgba(30,87,153,0.43) 60%, rgba(30,87,153,0.35) 70%, rgba(30,87,153,0.2) 75%, rgba(30,87,153,0) 80%);\n",
      "background: -ms-linear-gradient(left, rgba(30,87,153,0) 20%, rgba(30,87,153,0.2) 25%, rgba(30,87,153,0.35) 30%, rgba(30,87,153,0.43) 40%, rgba(41,137,216,0.5) 50%, rgba(30,87,153,0.43) 60%, rgba(30,87,153,0.35) 70%, rgba(30,87,153,0.2) 75%, rgba(30,87,153,0) 80%);\n",
      "background: linear-gradient(to right, rgba(30,87,153,0) 20%, rgba(30,87,153,0.2) 25%, rgba(30,87,153,0.35) 30%, rgba(30,87,153,0.43) 40%, rgba(41,137,216,0.5) 50%, rgba(30,87,153,0.43) 60%, rgba(30,87,153,0.35) 70%, rgba(30,87,153,0.2) 75%, rgba(30,87,153,0) 80%);\n",
      "filter: progid:DXImageTransform.Microsoft.gradient( startColorstr='#001e5799', endColorstr='#001e5799', GradientType=1 );}\n",
      "a img{ text-decoration:none !important; border:none 0 !important;}\n",
      "/*\n",
      ".homeRoverAdds {\n",
      "margin-top: -356px;\n",
      "margin-left: -175px;\n",
      "}\n",
      "html>body .homeRoverAdds {\n",
      "margin-top: -354px;\n",
      "margin-left: -143px;\n",
      "}\n",
      "*/\n",
      ".homeRoverAdds {\n",
      "/*margin-top: -266px !important;\n",
      "width: 1170px;\n",
      "height: 370px;\n",
      "background: url(../../layout/msl/images/rover_and_ads.png);*/\n",
      "width: 791px;\n",
      "height: 310px;\n",
      "background: url(../../layout/msl/images/hp_favs_twitter_bg.png);\n",
      "background-repeat: no-repeat;\n",
      "padding-top:0px;\n",
      "margin-left:auto; margin-right:-75px; margin-top:40px;\n",
      "clear:both;\n",
      "}\n",
      ".addsHdrBox { /*height:43px;*/ height:33px; padding-top:24px; /*background-color:yellow;*/ }\n",
      ".addsHdrBox .favoritesHdr { margin-left:200px; width:72px; }\n",
      "#twitterFeed {position: relative; /* margin-left:61px; */ width:182px; padding:0px; float:right; margin-right:40px; /*margin-top:-137px;*/}\n",
      "#twitterFeed .addsHdrBox { /*background-color:blue;*/ height:13px; }\n",
      ".addsHdrBox .atMarsCuriosityHdr { margin-left:0px; width:93px; float:left; }\n",
      ".addsHdrBox .twitterIcon { margin-left:0px; width:19px; float:left; }\n",
      ".addsHdrBox .facebookIcon { margin-left:6px; width:19px; float:left; }\n",
      ".homeFlash {\n",
      "margin-top: -710px;\n",
      "}\n",
      ".homeRoverAdds-countdown {\n",
      "color:white; font-size:20px; font-weight:bold; font-family: helvetica, arial, verdana, sans-serif;\n",
      "/*width:180px; height:174px;*/\n",
      "width:135px; height:130px;\n",
      "/*background-image: url('../../layout/msl/images/MSLCountdown_Ad3.jpg');*/\n",
      "background-image: url('../../layout/msl/images/ad_countdownToLand.jpg');\n",
      "background-repeat: no-repeat;\n",
      "padding-top: 52px;\n",
      "}\n",
      ".homeRoverAdds-countdown table {\n",
      "/*margin-left: 10px;*/\n",
      "margin-left: 10px;\n",
      "}\n",
      "html>body .homeRoverAdds-countdown table {\n",
      "margin-left: auto;\n",
      "}\n",
      ".homeRoverAdds-countdownDescription {\n",
      "color:#FFC53A; font-size:10px; font-weight:bold; font-family: helvetica, arial, verdana, sans-serif;\n",
      "}\n",
      ".homeRoverAdds-countdown td{\n",
      "color:white;\n",
      "/*font-size:20px; font-weight:bold; */\n",
      "font-size:14px; font-weight:normal;\n",
      "font-family: helvetica, arial, verdana, sans-serif;\n",
      "text-align:center;\n",
      "}\n",
      ".mslcountdown-home2\t{\n",
      "/*font-family: arial, helvetica, verdana, sans-serif;\n",
      "text-decoration: none;\n",
      "color:#000000!important;;\n",
      "font-weight: bold;\n",
      "font-size: 15px; */\n",
      "color:white;\n",
      "/*font-size:19px !important; */\n",
      "font-size:14px !important;\n",
      "font-weight:normal !important;\n",
      "font-family: helvetica, arial, verdana, sans-serif;\n",
      "width:100%; text-align:center;\n",
      "}\n",
      ".mslcountdown-home3\t{\n",
      "/*font-family: arial, helvetica, verdana, sans-serif;\n",
      "text-decoration: none;\n",
      "color : #012456;\n",
      "font-size: 11px; */\n",
      "color:#FFC53A;\n",
      "/*font-size:10px; */\n",
      "font-size:9px;\n",
      "font-weight:bold; font-family: helvetica, arial, verdana, sans-serif;\n",
      "width:100%; text-align:center;\n",
      "line-height:18px;\n",
      "}\n",
      ".mslcountdown-home2 td, .mslcountdown-home3 td {\n",
      "text-align:center;\n",
      "}\n",
      ".mslcountdown-home-title\t{\n",
      "font-family: arial, helvetica, verdana, sans-serif;\n",
      "text-decoration: none;\n",
      "color : #FEFEFE !important;\n",
      "font-weight: bold !important;\n",
      "font-size: 14px !important;\n",
      "/* background: #d4deeb;*/\n",
      "padding-bottom:5px;\n",
      "}\n",
      ".mslcountdown-home-text\t{\n",
      "font-family: arial, helvetica, verdana, sans-serif;\n",
      "text-decoration: none;\n",
      "color : #000000;\n",
      "font-weight: bold;\n",
      "font-size: 11px;\n",
      "background: #d4deeb;\n",
      "}\n",
      "a.mslcountdown-home2Link\t{\n",
      "font-family: arial, helvetica, verdana, sans-serif;\n",
      "text-decoration: none;\n",
      "color : #000000;\n",
      "font-weight: bold;\n",
      "font-size: 11px;\n",
      "background: #d4deeb;\n",
      "}\n",
      "a.mslcountdown-home-textLink\t{\n",
      "font-family: arial, helvetica, verdana, sans-serif;\n",
      "text-decoration: none;\n",
      "color : #000000;\n",
      "font-weight: bold;\n",
      "font-size: 11px;\n",
      "background: #d4deeb;\n",
      "}\n",
      "</style>\n",
      "<style type=\"text/css\">\n",
      "/*BODY BG - START*/\n",
      "body, html {\n",
      "background-color: #000000;\n",
      "margin: 0px;\n",
      "padding: 0px;\n",
      "background-image: url('../../layout/msl/images/background_bottom.jpg');\n",
      "background-repeat: repeat-y;\n",
      "background-repeat: ;\n",
      "}\n",
      "#contentBox {\n",
      "/*background-image: url('../../layout/msl/images/background_bottom.jpg');\n",
      "background-repeat: repeat-y;*/\n",
      "background-image: url('../../layout/msl/images/background_bottom.jpg');\n",
      "background-repeat: repeat-y;\n",
      "background-position: 50% 0%;\n",
      "/*background-color: #000000;*/\n",
      "height: 100%;\n",
      "margin: 0px;\n",
      "padding: 0px;\n",
      "background-color: #000000;\n",
      "}\n",
      "#content {\n",
      "background-image: url('../../layout/msl/images/background_WithBlue.jpg ');\n",
      "background-repeat: no-repeat;\n",
      "background-position: 50% 0%;\n",
      "/*height: 100%;*/\n",
      "height: 1100px;\n",
      "margin: 0px;\n",
      "padding: 0px;\n",
      "}\n",
      "/*BODY BG - END*/\n",
      "/*BANNER - START*/\n",
      "#top_jplBanner {\n",
      "text-align: center;\n",
      "width: 980;\n",
      "/*height: 57px;\n",
      "margin-top: 17px;*/\n",
      "padding-top: 17px; padding-left: 0px;\n",
      "height: 74px;\n",
      "/*background-image: url('../../layout/msl/images/top_jplBanner.png');\n",
      "background-repeat: no-repeat;\n",
      "background-position: 17px;*/\n",
      "}\n",
      "#top_marsBanner {\n",
      "text-align: center;\n",
      "width: 1130px;\n",
      "height: 169px;\n",
      "background-image: url('../../layout/msl/images/top_marsBanner.png');\n",
      "background-repeat: no-repeat;\n",
      "padding-top: 111px;\n",
      "}\n",
      "#top_marsBanner .MSLhome {\n",
      "margin-top:-90px;\n",
      "}\n",
      "#top_marsBanner #topSiteNavBox {\n",
      "margin"
     ]
    },
    {
     "data": {
      "text/html": [
       "<b>limit_output extension: Maximum message size of 10000 exceeded with 93191 characters</b>"
      ]
     },
     "metadata": {},
     "output_type": "display_data"
    }
   ],
   "source": [
    "print(soup.prettify)"
   ]
  },
  {
   "cell_type": "code",
   "execution_count": 9,
   "metadata": {
    "ExecuteTime": {
     "end_time": "2017-02-20T20:52:48.120741",
     "start_time": "2017-02-20T20:52:48.116986"
    },
    "collapsed": false
   },
   "outputs": [
    {
     "data": {
      "text/plain": [
       "<title>Raw Images - Mars Science Laboratory</title>"
      ]
     },
     "execution_count": 9,
     "metadata": {},
     "output_type": "execute_result"
    }
   ],
   "source": [
    "soup.title"
   ]
  },
  {
   "cell_type": "code",
   "execution_count": 10,
   "metadata": {
    "ExecuteTime": {
     "end_time": "2017-02-20T20:53:17.254396",
     "start_time": "2017-02-20T20:53:17.250205"
    },
    "collapsed": false
   },
   "outputs": [
    {
     "data": {
      "text/plain": [
       "<img align=\"left\" alt=\"Follow this link to skip to the main content\" border=\"0\" height=\"1\" hspace=\"0\" src=\"../../images/spacer.gif\" vspace=\"0\" width=\"1\"/>"
      ]
     },
     "execution_count": 10,
     "metadata": {},
     "output_type": "execute_result"
    }
   ],
   "source": [
    "soup.img"
   ]
  },
  {
   "cell_type": "code",
   "execution_count": 11,
   "metadata": {
    "ExecuteTime": {
     "end_time": "2017-02-20T20:53:32.098926",
     "start_time": "2017-02-20T20:53:32.094100"
    },
    "collapsed": false
   },
   "outputs": [
    {
     "data": {
      "text/plain": [
       "{'align': 'left',\n",
       " 'alt': 'Follow this link to skip to the main content',\n",
       " 'border': '0',\n",
       " 'height': '1',\n",
       " 'hspace': '0',\n",
       " 'src': '../../images/spacer.gif',\n",
       " 'vspace': '0',\n",
       " 'width': '1'}"
      ]
     },
     "execution_count": 11,
     "metadata": {},
     "output_type": "execute_result"
    }
   ],
   "source": [
    "soup.img.attrs"
   ]
  },
  {
   "cell_type": "code",
   "execution_count": 13,
   "metadata": {
    "ExecuteTime": {
     "end_time": "2017-02-20T20:54:26.703076",
     "start_time": "2017-02-20T20:54:26.698983"
    },
    "collapsed": false
   },
   "outputs": [
    {
     "name": "stdout",
     "output_type": "stream",
     "text": [
      "div\n",
      "div\n",
      "div\n",
      "body\n",
      "html\n",
      "[document]\n"
     ]
    }
   ],
   "source": [
    "for p in soup.map.parents:\n",
    "    print(p.name)"
   ]
  },
  {
   "cell_type": "code",
   "execution_count": 14,
   "metadata": {
    "ExecuteTime": {
     "end_time": "2017-02-20T20:55:10.230643",
     "start_time": "2017-02-20T20:55:10.223585"
    },
    "collapsed": false
   },
   "outputs": [
    {
     "data": {
      "text/plain": [
       "[<img align=\"left\" alt=\"Follow this link to skip to the main content\" border=\"0\" height=\"1\" hspace=\"0\" src=\"../../images/spacer.gif\" vspace=\"0\" width=\"1\"/>,\n",
       " <img alt=\"JPL Banner\" border=\"0\" height=\"67\" src=\"../../layout/msl/images/top_jplBanner.png\" usemap=\"#top_jplBanner\" width=\"978\"/>,\n",
       " <img alt=\"Mars Science Laboratory\" border=\"0\" height=\"90\" src=\"../../layout/msl/images/spacer.gif\" title=\"Mars Science Laboratory\" width=\"1000\"/>,\n",
       " <img alt=\"Home\" border=\"0\" height=\"34\" id=\"nav_home\" src=\"../../layout/msl/images/navtop_home.png\" style=\"_margin-top:-2px;\" title=\"Home\" width=\"111\"/>,\n",
       " <img alt=\"Mission\" border=\"0\" height=\"34\" id=\"nav_mission\" onmouseout=\"changeImages('nav_mission', '../../layout/msl/images/navtop_mission.png');\" onmouseover=\"changeImages('nav_mission', '../../layout/msl/images/navtop_mission_sel.png');\" src=\"../../layout/msl/images/navtop_mission.png\" title=\"Mission\" width=\"132\"/>,\n",
       " <img alt=\"Mission\" border=\"0\" height=\"34\" id=\"nav_mission\" src=\"../../layout/msl/images/navtop_mission_sel.png\" title=\"Mission\" width=\"132\"/>,\n",
       " <img alt=\"News\" border=\"0\" height=\"34\" id=\"nav_news\" onmouseout=\"changeImages('nav_news', '../../layout/msl/images/navtop_news.png');\" onmouseover=\"changeImages('nav_news', '../../layout/msl/images/navtop_news_sel.png');\" src=\"../../layout/msl/images/navtop_news.png\" title=\"News\" width=\"110\"/>,\n",
       " <img alt=\"News\" border=\"0\" height=\"34\" id=\"nav_news\" src=\"../../layout/msl/images/navtop_news_sel.png\" title=\"News\" width=\"110\"/>,\n",
       " <img alt=\"Multimedia\" border=\"0\" height=\"34\" id=\"nav_multimedia\" onmouseout=\"changeImages('nav_multimedia', '../../layout/msl/images/navtop_multimedia.png');\" onmouseover=\"changeImages('nav_multimedia', '../../layout/msl/images/navtop_multimedia_sel.png');\" src=\"../../layout/msl/images/navtop_multimedia.png\" title=\"Multimedia\" width=\"160\"/>,\n",
       " <img alt=\"Multimedia\" border=\"0\" height=\"34\" id=\"nav_multimedia\" src=\"../../layout/msl/images/navtop_multimedia_sel.png\" title=\"Multimedia\" width=\"160\"/>,\n",
       " <img alt=\"navtop_participate.png\" border=\"0\" height=\"34\" id=\"nav_participate\" onmouseout=\"changeImages('nav_participate', '../../layout/msl/images/navtop_participate.png');\" onmouseover=\"changeImages('nav_participate', '../../layout/msl/images/navtop_participate_sel.png');\" src=\"../../layout/msl/images/navtop_participate.png\" title=\"navtop_participate.png\" width=\"160\"/>,\n",
       " <img alt=\"navtop_participate.png\" border=\"0\" height=\"34\" id=\"nav_participate\" src=\"../../layout/msl/images/navtop_participate_sel.png\" title=\"navtop_participate.png\" width=\"160\"/>,\n",
       " <img alt=\"navtop_search.png\" border=\"0\" class=\"searchButton\" height=\"34\" id=\"nav_search\" onmouseout=\"changeImages('nav_search', '../../layout/msl/images/navtop_search.png');\" onmouseover=\"changeImages('nav_search', '../../layout/msl/images/navtop_search_sel.png');\" src=\"../../layout/msl/images/navtop_search.png\" title=\"Search\" width=\"122\"/>,\n",
       " <img alt=\"All Mars\" border=\"0\" height=\"34\" id=\"nav_allmars\" onmouseout=\"changeImages('nav_allmars', '../../layout/msl/images/navtop_allmars.png');\" onmouseover=\"changeImages('nav_allmars', '../../layout/msl/images/navtop_allmars_sel.png');\" src=\"../../layout/msl/images/navtop_allmars.png\" title=\"All Mars\" width=\"133\"/>,\n",
       " <img alt=\"All Mars\" border=\"0\" height=\"34\" id=\"nav_allmars\" src=\"../../layout/msl/images/navtop_allmars_sel.png\" title=\"All Mars\" width=\"133\"/>,\n",
       " <img alt=\"\" height=\"18\" src=\"/layout/msl/images/nav_middle_L3_first_sel.jpg\" width=\"21\"/>,\n",
       " <img alt=\"\" height=\"18\" src=\"/layout/msl/images/nav_middle_L3_right_sel.jpg\" width=\"2\"/>,\n",
       " <img alt=\"|\" height=\"18\" src=\"/layout/msl/spacer.gif\" width=\"2\"/>,\n",
       " <img alt=\"\" height=\"18\" src=\"/layout/msl/images/nav_middle_L3_left.jpg\" width=\"2\"/>,\n",
       " <img alt=\"\" height=\"18\" src=\"/layout/msl/images/nav_middle_L3_right.jpg\" width=\"2\"/>,\n",
       " <img alt=\"\" height=\"2\" src=\"/layout/msl/images/nav_middle_L3_firstBottom.jpg\" width=\"2\"/>,\n",
       " <img alt=\"\" height=\"18\" src=\"/images/spacer.gif\" width=\"1\"/>,\n",
       " <img alt=\"Image taken by Front Hazcam: Left B\" hspace=\"0\" src=\"/msl-raw-images/proj/msl/redops/ods/surface/sol/01460/opgs/edr/fcam/FLB_527107895EDR_F0572798FHAZ00337M_-thm.jpg\" style=\"border: 3px solid #FFFFFF;\" vspace=\"0\" width=\"160\"/>,\n",
       " <img alt=\"Image taken by Front Hazcam: Right B\" hspace=\"0\" src=\"/msl-raw-images/proj/msl/redops/ods/surface/sol/01460/opgs/edr/fcam/FRB_527107895EDR_F0572798FHAZ00337M_-thm.jpg\" style=\"border: 3px solid #FFFFFF;\" vspace=\"0\" width=\"160\"/>,\n",
       " <img alt=\"Image taken by Front Hazcam: Right B\" hspace=\"0\" src=\"/msl-raw-images/proj/msl/redops/ods/surface/sol/01460/opgs/edr/fcam/FRB_527097236EDR_F0572798FHAZ00206M_-thm.jpg\" style=\"border: 3px solid #FFFFFF;\" vspace=\"0\" width=\"160\"/>,\n",
       " <img alt=\"Image taken by Front Hazcam: Left B\" hspace=\"0\" src=\"/msl-raw-images/proj/msl/redops/ods/surface/sol/01460/opgs/edr/fcam/FLB_527097236EDR_F0572798FHAZ00206M_-thm.jpg\" style=\"border: 3px solid #FFFFFF;\" vspace=\"0\" width=\"160\"/>,\n",
       " <img alt=\"Image taken by Front Hazcam: Right B\" hspace=\"0\" src=\"/msl-raw-images/proj/msl/redops/ods/surface/sol/01460/opgs/edr/fcam/FRB_527096813EDR_F0572798FHAZ00206M_-thm.jpg\" style=\"border: 3px solid #FFFFFF;\" vspace=\"0\" width=\"160\"/>,\n",
       " <img alt=\"Image taken by Front Hazcam: Left B\" hspace=\"0\" src=\"/msl-raw-images/proj/msl/redops/ods/surface/sol/01460/opgs/edr/fcam/FLB_527096813EDR_F0572798FHAZ00206M_-thm.jpg\" style=\"border: 3px solid #FFFFFF;\" vspace=\"0\" width=\"160\"/>,\n",
       " <img alt=\"Image taken by Front Hazcam: Left B\" hspace=\"0\" src=\"/msl-raw-images/proj/msl/redops/ods/surface/sol/01460/opgs/edr/fcam/FLB_527107895EDR_T0572798FHAZ00337M_-thm.jpg\" style=\"border: 3px solid #FFFFFF;\" vspace=\"0\" width=\"64\"/>,\n",
       " <img alt=\"Image taken by Front Hazcam: Right B\" hspace=\"0\" src=\"/msl-raw-images/proj/msl/redops/ods/surface/sol/01460/opgs/edr/fcam/FRB_527107895EDR_T0572798FHAZ00337M_-thm.jpg\" style=\"border: 3px solid #FFFFFF;\" vspace=\"0\" width=\"64\"/>,\n",
       " <img alt=\"Image taken by Front Hazcam: Right B\" hspace=\"0\" src=\"/msl-raw-images/proj/msl/redops/ods/surface/sol/01460/opgs/edr/fcam/FRB_527097236EDR_T0572798FHAZ00206M_-thm.jpg\" style=\"border: 3px solid #FFFFFF;\" vspace=\"0\" width=\"64\"/>,\n",
       " <img alt=\"Image taken by Front Hazcam: Left B\" hspace=\"0\" src=\"/msl-raw-images/proj/msl/redops/ods/surface/sol/01460/opgs/edr/fcam/FLB_527097236EDR_T0572798FHAZ00206M_-thm.jpg\" style=\"border: 3px solid #FFFFFF;\" vspace=\"0\" width=\"64\"/>,\n",
       " <img alt=\"Image taken by Front Hazcam: Right B\" hspace=\"0\" src=\"/msl-raw-images/proj/msl/redops/ods/surface/sol/01460/opgs/edr/fcam/FRB_527096813EDR_T0572798FHAZ00206M_-thm.jpg\" style=\"border: 3px solid #FFFFFF;\" vspace=\"0\" width=\"64\"/>,\n",
       " <img alt=\"Image taken by Front Hazcam: Left B\" hspace=\"0\" src=\"/msl-raw-images/proj/msl/redops/ods/surface/sol/01460/opgs/edr/fcam/FLB_527096813EDR_T0572798FHAZ00206M_-thm.jpg\" style=\"border: 3px solid #FFFFFF;\" vspace=\"0\" width=\"64\"/>,\n",
       " <img alt=\"USA.gov\" border=\"0\" height=\"38\" src=\"../../layout/msl/images/footer_usagov.png\" width=\"124\"/>,\n",
       " <img alt=\"\" border=\"0\" height=\"10\" src=\"../../layout/msl/images/footerVL.gif\" width=\"2\"/>,\n",
       " <img alt=\"\" border=\"0\" height=\"10\" src=\"../../layout/msl/images/footerVL.gif\" width=\"2\"/>,\n",
       " <img alt=\"\" border=\"0\" height=\"10\" src=\"../../layout/msl/images/footerVL.gif\" width=\"2\"/>,\n",
       " <img alt=\"\" border=\"0\" height=\"10\" src=\"../../layout/msl/images/footerVL.gif\" width=\"2\"/>]"
      ]
     },
     "execution_count": 14,
     "metadata": {},
     "output_type": "execute_result"
    }
   ],
   "source": [
    "soup.find_all('img')"
   ]
  },
  {
   "cell_type": "code",
   "execution_count": 15,
   "metadata": {
    "ExecuteTime": {
     "end_time": "2017-02-20T20:55:59.373405",
     "start_time": "2017-02-20T20:55:59.370021"
    },
    "collapsed": true
   },
   "outputs": [],
   "source": [
    "imgs = [img['src'] for img in soup.find_all('img') if 'Image' in img['alt']]"
   ]
  },
  {
   "cell_type": "code",
   "execution_count": 16,
   "metadata": {
    "ExecuteTime": {
     "end_time": "2017-02-20T20:56:02.541667",
     "start_time": "2017-02-20T20:56:02.537916"
    },
    "collapsed": false
   },
   "outputs": [
    {
     "data": {
      "text/plain": [
       "['/msl-raw-images/proj/msl/redops/ods/surface/sol/01460/opgs/edr/fcam/FLB_527107895EDR_F0572798FHAZ00337M_-thm.jpg',\n",
       " '/msl-raw-images/proj/msl/redops/ods/surface/sol/01460/opgs/edr/fcam/FRB_527107895EDR_F0572798FHAZ00337M_-thm.jpg',\n",
       " '/msl-raw-images/proj/msl/redops/ods/surface/sol/01460/opgs/edr/fcam/FRB_527097236EDR_F0572798FHAZ00206M_-thm.jpg',\n",
       " '/msl-raw-images/proj/msl/redops/ods/surface/sol/01460/opgs/edr/fcam/FLB_527097236EDR_F0572798FHAZ00206M_-thm.jpg',\n",
       " '/msl-raw-images/proj/msl/redops/ods/surface/sol/01460/opgs/edr/fcam/FRB_527096813EDR_F0572798FHAZ00206M_-thm.jpg',\n",
       " '/msl-raw-images/proj/msl/redops/ods/surface/sol/01460/opgs/edr/fcam/FLB_527096813EDR_F0572798FHAZ00206M_-thm.jpg',\n",
       " '/msl-raw-images/proj/msl/redops/ods/surface/sol/01460/opgs/edr/fcam/FLB_527107895EDR_T0572798FHAZ00337M_-thm.jpg',\n",
       " '/msl-raw-images/proj/msl/redops/ods/surface/sol/01460/opgs/edr/fcam/FRB_527107895EDR_T0572798FHAZ00337M_-thm.jpg',\n",
       " '/msl-raw-images/proj/msl/redops/ods/surface/sol/01460/opgs/edr/fcam/FRB_527097236EDR_T0572798FHAZ00206M_-thm.jpg',\n",
       " '/msl-raw-images/proj/msl/redops/ods/surface/sol/01460/opgs/edr/fcam/FLB_527097236EDR_T0572798FHAZ00206M_-thm.jpg',\n",
       " '/msl-raw-images/proj/msl/redops/ods/surface/sol/01460/opgs/edr/fcam/FRB_527096813EDR_T0572798FHAZ00206M_-thm.jpg',\n",
       " '/msl-raw-images/proj/msl/redops/ods/surface/sol/01460/opgs/edr/fcam/FLB_527096813EDR_T0572798FHAZ00206M_-thm.jpg']"
      ]
     },
     "execution_count": 16,
     "metadata": {},
     "output_type": "execute_result"
    }
   ],
   "source": [
    "imgs"
   ]
  },
  {
   "cell_type": "code",
   "execution_count": 18,
   "metadata": {
    "ExecuteTime": {
     "end_time": "2017-02-20T20:57:02.143469",
     "start_time": "2017-02-20T20:57:02.139648"
    },
    "collapsed": false
   },
   "outputs": [
    {
     "data": {
      "image/png": "/msl-raw-images/proj/msl/redops/ods/surface/sol/01460/opgs/edr/fcam/FLB_527107895EDR_F0572798FHAZ00337M_-thm.jpg",
      "text/plain": [
       "<IPython.core.display.Image object>"
      ]
     },
     "execution_count": 18,
     "metadata": {},
     "output_type": "execute_result"
    }
   ],
   "source": [
    "IPython.display.Image(imgs[0])"
   ]
  },
  {
   "cell_type": "code",
   "execution_count": null,
   "metadata": {
    "collapsed": true
   },
   "outputs": [],
   "source": []
  }
 ],
 "metadata": {
  "anaconda-cloud": {},
  "kernelspec": {
   "display_name": "Python 3",
   "language": "python",
   "name": "python3"
  },
  "language_info": {
   "codemirror_mode": {
    "name": "ipython",
    "version": 3
   },
   "file_extension": ".py",
   "mimetype": "text/x-python",
   "name": "python",
   "nbconvert_exporter": "python",
   "pygments_lexer": "ipython3",
   "version": "3.5.2"
  },
  "latex_envs": {
   "LaTeX_envs_menu_present": true,
   "bibliofile": "biblio.bib",
   "cite_by": "apalike",
   "current_citInitial": 1,
   "eqLabelWithNumbers": true,
   "eqNumInitial": 1,
   "labels_anchors": false,
   "latex_user_defs": false,
   "report_style_numbering": false,
   "user_envs_cfg": false
  },
  "toc": {
   "colors": {
    "hover_highlight": "#DAA520",
    "running_highlight": "#FF0000",
    "selected_highlight": "#FFD700"
   },
   "moveMenuLeft": true,
   "nav_menu": {
    "height": "81px",
    "width": "252px"
   },
   "navigate_menu": true,
   "number_sections": true,
   "sideBar": true,
   "threshold": 4,
   "toc_cell": false,
   "toc_section_display": "block",
   "toc_window_display": false
  }
 },
 "nbformat": 4,
 "nbformat_minor": 1
}
